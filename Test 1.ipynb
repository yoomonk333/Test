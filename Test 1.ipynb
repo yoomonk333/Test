{
 "cells": [
  {
   "cell_type": "markdown",
   "metadata": {},
   "source": [
    "# Practice Assessment\n",
    "This is your first assessment. Although it is for practice only, you must go through each question and ensure you can  run your Python code in the notebook. \n",
    "\n",
    "It is important that you are able to save your completed notebook into a repo in your GitHub account. And you must be able to email a copy of your uploaded file to james.connolly@lyit.ie "
   ]
  },
  {
   "cell_type": "markdown",
   "metadata": {},
   "source": [
    "## Q1\n",
    "Using an f-string, display this Einstein quote exactly as you see it. \n",
    "\n",
    "Anyone who has never made a mistake <br>\n",
    "         has never tried anything new."
   ]
  },
  {
   "cell_type": "code",
   "execution_count": 5,
   "metadata": {},
   "outputs": [
    {
     "name": "stdout",
     "output_type": "stream",
     "text": [
      "Anyone who has never made a mistake\n",
      " has never tried anaything new.\n"
     ]
    }
   ],
   "source": [
    "print (f\"Anyone who has never made a mistake\\n has never tried anaything new.\")"
   ]
  },
  {
   "cell_type": "markdown",
   "metadata": {},
   "source": [
    "### Q2 \n",
    "Using an f-string and the variables provided, display this message\n",
    "\n",
    "`Letterkenny Institute of Technology can be abbreviated to (LYIT).`"
   ]
  },
  {
   "cell_type": "code",
   "execution_count": 7,
   "metadata": {},
   "outputs": [
    {
     "name": "stdout",
     "output_type": "stream",
     "text": [
      "Letterkenny Institute of Technology can be abbrevated to LYIT\n"
     ]
    }
   ],
   "source": [
    "LYIT_name = \"Letterkenny Institute of Technology\"\n",
    "acronym = \"LYIT\"\n",
    "\n",
    "# Enter your code here\n",
    "print (f\"{LYIT_name} can be abbrevated to {acronym}\")"
   ]
  },
  {
   "cell_type": "markdown",
   "metadata": {},
   "source": [
    "### Q3\n",
    "Write a Python program to display the current date and time.\n",
    "\n",
    "Sample output:\n",
    "`2020-01-10 18:31:21.076466`"
   ]
  },
  {
   "cell_type": "code",
   "execution_count": 10,
   "metadata": {},
   "outputs": [
    {
     "name": "stdout",
     "output_type": "stream",
     "text": [
      "now = 2020-03-03 11:26:49.590588\n",
      "date and time = 03/03/2020 11:26:49\n"
     ]
    }
   ],
   "source": [
    "from datetime import datetime\n",
    "\n",
    "# datetime object containing current date and time\n",
    "now = datetime.now()\n",
    " \n",
    "print(\"now =\", now)\n",
    "\n",
    "# dd/mm/YY H:M:S\n",
    "dt_string = now.strftime(\"%d/%m/%Y %H:%M:%S\")\n",
    "print(\"date and time =\", dt_string)\t"
   ]
  },
  {
   "cell_type": "markdown",
   "metadata": {},
   "source": [
    "### Q4\n",
    "Write a Python program to ask the user to input their first name and DOB. Then calculate the number of days they have been alive.\n",
    "\n",
    "Display a message to the user with an f-string using this format `James, you are 40 years old`.\n",
    "\n",
    "Use the following code and then add your code."
   ]
  },
  {
   "cell_type": "code",
   "execution_count": null,
   "metadata": {},
   "outputs": [
    {
     "name": "stdout",
     "output_type": "stream",
     "text": [
      "Please enter your first name : Umang\n",
      "Please enter your DOB as integer values\n"
     ]
    }
   ],
   "source": [
    "import datetime as dt\n",
    "\n",
    "first_name = input(\"Please enter your first name : \")\n",
    "print(\"Please enter your DOB as integer values\")\n",
    "year = int(input(\"Enter year : \"))\n",
    "month = int(input(\"Enter month : \"))\n",
    "day = int(input(\"Enter day : \"))\n",
    "\n",
    "# Enter your code here\n",
    "birthdate = dt.date(year, month, day)\n",
    "today = dt.date.today ()\n",
    "age = (today - birthdate)\n",
    "days_old = age.date\n",
    "years_old = days_old // 365\n",
    "print ()"
   ]
  },
  {
   "cell_type": "markdown",
   "metadata": {},
   "source": [
    "### Q5\n",
    "Enter 2 numbers. If both numbers add up to a number between 50 to 60 then print a message stating `not accepted`, otherwise show a message `accepted`. \n",
    "\n",
    "Hint: Use the `sum in range` command to check whether your number is within a specific rang or not."
   ]
  },
  {
   "cell_type": "code",
   "execution_count": 12,
   "metadata": {
    "scrolled": true
   },
   "outputs": [
    {
     "name": "stdout",
     "output_type": "stream",
     "text": [
      "Please enter number 1 : 50\n",
      "Please enter number 2 : 40\n",
      "accepted\n"
     ]
    }
   ],
   "source": [
    "number1 = int(input(\"Please enter number 1 : \"))\n",
    "number2 = int(input(\"Please enter number 2 : \"))\n",
    "sum = number1 + number2\n",
    "\n",
    "# Enter your code here\n",
    "if sum in range (50, 60):\n",
    "    print (\"not accepted\")\n",
    "else :\n",
    "    print (\"accepted\")"
   ]
  },
  {
   "cell_type": "markdown",
   "metadata": {},
   "source": [
    "### Q6\n",
    "Write a Python program to calculate the hypotenuse of a right angled triangle.\n",
    "\n",
    "Hint : hytothenuse = square root of 2 shortest sides squared"
   ]
  },
  {
   "cell_type": "code",
   "execution_count": 6,
   "metadata": {},
   "outputs": [
    {
     "name": "stdout",
     "output_type": "stream",
     "text": [
      "Input lengths of shorter triangle sides : \n",
      " side a: 4\n",
      " side b: 5\n",
      "The length of the hypotenuse is 6.4031242374328485 \n"
     ]
    }
   ],
   "source": [
    "from math import sqrt\n",
    "print(\"Input lengths of shorter triangle sides : \")\n",
    "a = float(input(\" side a: \"))\n",
    "b = float(input(\" side b: \"))\n",
    "\n"
   ]
  },
  {
   "cell_type": "markdown",
   "metadata": {},
   "source": [
    "### Q7\n",
    "Use PyPDF2 to open the file **A_Midsummer_Night**. Extract the text of page 22 from this pdf. Print the contents of it."
   ]
  },
  {
   "cell_type": "code",
   "execution_count": 28,
   "metadata": {},
   "outputs": [
    {
     "name": "stdout",
     "output_type": "stream",
     "text": [
      "Requirement already satisfied: PyPDF2 in c:\\users\\umang shrimali\\anaconda3\\envs\\ai2_course\\lib\\site-packages (1.26.0)\n",
      "[Awaking] And run through fire\n",
      " I will for thy sweet sake. \n",
      "Transparent Helena! Nature shows art, \n",
      "\n",
      "That through thy bosom makes me see thy heart. \n",
      "Where is Demetrius? O, how fit a word \n",
      "Is that vile name to perish on my sword! \n",
      "\n",
      "HELENA\n",
      "  Do not say so, Lysander; say not so \n",
      "What though he love your Hermia? Lord, what though? \n",
      "Yet Hermia still loves you: then be content. \n",
      "\n",
      "LYSANDER\n",
      "  Content with Hermia! No; I do repent \n",
      "The tedious minutes I with her have spent. \n",
      "Not Hermia but Helena I love: \n",
      "\n",
      "Who will not change a raven for a dove? \n",
      "\n",
      "The will of man is by his reason sway'd; \n",
      "\n",
      "And reason says you are the worthier maid. \n",
      "\n",
      "Things growing are not ripe until their season \n",
      "\n",
      "So I, being young, till now ripe not to reason; \n",
      "\n",
      "And touching now the point of human skill, \n",
      "\n",
      "Reason becomes the marshal to my will \n",
      "And leads me to your eyes, where I o'erlook \n",
      "Love's stories written in love's richest book. \n",
      "\n",
      "HELENA\n",
      "  Wherefore was I to this keen mockery born? \n",
      "\n",
      "When at your hands did I deserve this scorn? \n",
      "\n",
      "Is't not enough, is't not enough, young man, \n",
      "\n",
      "That I did never, no, nor never can, \n",
      "\n",
      "Deserve a sweet look from Demetrius' eye, \n",
      "But you must flout my insufficiency? \n",
      "Good troth, you do me wrong, good sooth, you do, \n",
      "\n",
      "In such disdainful manner me to woo. \n",
      "\n",
      "But fare you well: perforce I must confess \n",
      "\n",
      "I thought you lord of more true gentleness. \n",
      "\n",
      "O, that a lady, of one man refused. \n",
      "\n",
      "Should of another therefore be abused! \n",
      "Exit\n",
      " LYSANDER\n",
      "  She sees not Hermia. Hermia, sleep thou there: \n",
      "\n",
      "And never mayst thou come Lysander near! \n",
      "For as a surfeit of the sweetest things \n",
      "The deepest loathing to the stomach brings, \n",
      "Or as tie heresies that men do leave \n",
      "\n",
      "Are hated most of those they did deceive, \n",
      "\n",
      "So thou, my surfeit and my heresy, \n",
      "Of all be hated, but the most of me! \n",
      "And, all my powers, addr\n",
      "ess your love and might \n",
      "To honour Helen and to be her knight! \n",
      "\n"
     ]
    },
    {
     "name": "stderr",
     "output_type": "stream",
     "text": [
      "PdfReadWarning: Xref table not zero-indexed. ID numbers for objects will be corrected. [pdf.py:1736]\n"
     ]
    }
   ],
   "source": [
    "!pip install PyPDF2\n",
    "import PyPDF2\n",
    "\n",
    "my_pdf_file = open(\"A_Midsummer_Night by Shakesphere.pdf\", mode=\"rb\")\n",
    "pdf_reader = PyPDF2.PdfFileReader (my_pdf_file)\n",
    "pdf_page = pdf_reader.getPage (21).extractText ()\n",
    "# Extract the text from the second page\n",
    "print (pdf_page)"
   ]
  },
  {
   "cell_type": "markdown",
   "metadata": {},
   "source": [
    "### Q8\n",
    "Open a new file called **OnePage.txt** and add the text you extracted from page 22 from the pdf file **A Midsummer Night** into the file **OnePage.txt**."
   ]
  },
  {
   "cell_type": "code",
   "execution_count": 9,
   "metadata": {},
   "outputs": [
    {
     "name": "stdout",
     "output_type": "stream",
     "text": [
      "Exit\n",
      " HERMIA\n",
      "  [Awaking] Help me, Lysander, help me! do thy best \n",
      "\n",
      "To pluck this crawling serpent from my breast! \n",
      "\n",
      "Ay me, for pity! what a dream was here! \n",
      "\n",
      "Lysander, look how I do quake with fear: \n",
      "\n",
      "Methought a serpent eat my heart away, \n",
      "\n",
      "And you sat smiling at his cruel pray. \n",
      "Lysander! what, removed? Lysander! lord! \n",
      "What, out of hearing? gone? no sound, no word? \n",
      "\n",
      "Alack, where are you speak, an if you hear; \n",
      "\n",
      "Speak, of all loves! I swoon almost with fear. \n",
      "\n",
      "No? then I well perceive you all not nigh \n",
      "\n",
      "Either death or you I'll find immediately. \n",
      "Exit\n",
      " Exit\n",
      " HERMIA\n",
      "  [Awaking] Help me, Lysander, help me! do thy best \n",
      "\n",
      "To pluck this crawling serpent from my breast! \n",
      "\n",
      "Ay me, for pity! what a dream was here! \n",
      "\n",
      "Lysander, look how I do quake with fear: \n",
      "\n",
      "Methought a serpent eat my heart away, \n",
      "\n",
      "And you sat smiling at his cruel pray. \n",
      "Lysander! what, removed? Lysander! lord! \n",
      "What, out of hearing? gone? no sound, no word? \n",
      "\n",
      "Alack, where are you speak, an if you hear; \n",
      "\n",
      "Speak, of all loves! I swoon almost with fear. \n",
      "\n",
      "No? then I well perceive you all not nigh \n",
      "\n",
      "Either death or you I'll find immediately. \n",
      "Exit\n",
      " \n"
     ]
    }
   ],
   "source": []
  },
  {
   "cell_type": "markdown",
   "metadata": {},
   "source": [
    "### Q9\n",
    "Now print the contents of **OnePage.txt**. Store the contents of the file in a variable called **file_contents**."
   ]
  },
  {
   "cell_type": "code",
   "execution_count": 10,
   "metadata": {},
   "outputs": [
    {
     "name": "stdout",
     "output_type": "stream",
     "text": [
      "Exit\n",
      " HERMIA\n",
      "  [Awaking] Help me, Lysander, help me! do thy best \n",
      "\n",
      "To pluck this crawling serpent from my breast! \n",
      "\n",
      "Ay me, for pity! what a dream was here! \n",
      "\n",
      "Lysander, look how I do quake with fear: \n",
      "\n",
      "Methought a serpent eat my heart away, \n",
      "\n",
      "And you sat smiling at his cruel pray. \n",
      "Lysander! what, removed? Lysander! lord! \n",
      "What, out of hearing? gone? no sound, no word? \n",
      "\n",
      "Alack, where are you speak, an if you hear; \n",
      "\n",
      "Speak, of all loves! I swoon almost with fear. \n",
      "\n",
      "No? then I well perceive you all not nigh \n",
      "\n",
      "Either death or you I'll find immediately. \n",
      "Exit\n",
      " Exit\n",
      " HERMIA\n",
      "  [Awaking] Help me, Lysander, help me! do thy best \n",
      "\n",
      "To pluck this crawling serpent from my breast! \n",
      "\n",
      "Ay me, for pity! what a dream was here! \n",
      "\n",
      "Lysander, look how I do quake with fear: \n",
      "\n",
      "Methought a serpent eat my heart away, \n",
      "\n",
      "And you sat smiling at his cruel pray. \n",
      "Lysander! what, removed? Lysander! lord! \n",
      "What, out of hearing? gone? no sound, no word? \n",
      "\n",
      "Alack, where are you speak, an if you hear; \n",
      "\n",
      "Speak, of all loves! I swoon almost with fear. \n",
      "\n",
      "No? then I well perceive you all not nigh \n",
      "\n",
      "Either death or you I'll find immediately. \n",
      "Exit\n",
      " \n"
     ]
    }
   ],
   "source": []
  },
  {
   "cell_type": "markdown",
   "metadata": {},
   "source": [
    "### Q10\n",
    "Using the **file_contents** variable above, extract any text that is 5 characters long followed by an exclamation mark."
   ]
  },
  {
   "cell_type": "code",
   "execution_count": 11,
   "metadata": {},
   "outputs": [
    {
     "data": {
      "text/plain": [
       "['reast!',\n",
       " 'ander!',\n",
       " 'ander!',\n",
       " 'loves!',\n",
       " 'reast!',\n",
       " 'ander!',\n",
       " 'ander!',\n",
       " 'loves!']"
      ]
     },
     "execution_count": 11,
     "metadata": {},
     "output_type": "execute_result"
    }
   ],
   "source": []
  },
  {
   "cell_type": "markdown",
   "metadata": {},
   "source": [
    "### Save your file to GitHub\n",
    "\n",
    "Create a repo called **AI assessments** and save this assessment file to it.\n",
    "\n",
    "Email a link to your GitHub page to james.connolly@lyit.ie"
   ]
  }
 ],
 "metadata": {
  "kernelspec": {
   "display_name": "Python 3",
   "language": "python",
   "name": "python3"
  },
  "language_info": {
   "codemirror_mode": {
    "name": "ipython",
    "version": 3
   },
   "file_extension": ".py",
   "mimetype": "text/x-python",
   "name": "python",
   "nbconvert_exporter": "python",
   "pygments_lexer": "ipython3",
   "version": "3.7.6"
  }
 },
 "nbformat": 4,
 "nbformat_minor": 2
}
